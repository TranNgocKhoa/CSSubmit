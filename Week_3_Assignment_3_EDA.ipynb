{
  "nbformat": 4,
  "nbformat_minor": 0,
  "metadata": {
    "colab": {
      "name": "Week_3_Assignment_3_EDA.ipynb",
      "provenance": [],
      "collapsed_sections": [],
      "include_colab_link": true
    },
    "kernelspec": {
      "display_name": "Python 3",
      "language": "python",
      "name": "python3"
    },
    "language_info": {
      "codemirror_mode": {
        "name": "ipython",
        "version": 3
      },
      "file_extension": ".py",
      "mimetype": "text/x-python",
      "name": "python",
      "nbconvert_exporter": "python",
      "pygments_lexer": "ipython3",
      "version": "3.6.5"
    }
  },
  "cells": [
    {
      "cell_type": "markdown",
      "metadata": {
        "id": "view-in-github",
        "colab_type": "text"
      },
      "source": [
        "<a href=\"https://colab.research.google.com/github/TranNgocKhoa/CSSubmit/blob/master/Week_3_Assignment_3_EDA.ipynb\" target=\"_parent\"><img src=\"https://colab.research.google.com/assets/colab-badge.svg\" alt=\"Open In Colab\"/></a>"
      ]
    },
    {
      "cell_type": "markdown",
      "metadata": {
        "colab_type": "text",
        "id": "x7fdTGs4SnyS"
      },
      "source": [
        "![](https://i.imgur.com/0AUxkXt.png)"
      ]
    },
    {
      "cell_type": "markdown",
      "metadata": {
        "colab_type": "text",
        "id": "_uqy69P0Pm0L"
      },
      "source": [
        "# Assignment 3 - From data to insights\n",
        "\n",
        "Before you explore the data, write down a short list of what you expect to see in the data: the distribution of key variables, the relationships between important pairs of them, and so on. Such a list is essentially a prediction based on your current understanding of the business.\n",
        "\n",
        "Now analyze the data. Make plots, do summaries, whatever is needed to see if it matches your expectations.\n",
        "\n",
        "Is there anything that doesn’t match? Anything that makes you go “That’s odd” or “That doesn’t make any sense.”?\n",
        "\n",
        "Zoom in and try to understand what in your business is making that weird thing show up in the data like that. This is the critical step.\n",
        "\n",
        "You may have just found an insight into the business and increased your understanding\n",
        "\n",
        "\n",
        "## The data analysis checklist\n",
        "\n",
        "This checklist can be used as a guide during the process of a data analysis, or as a way to evaluate the quality of a reported data analysis.\n",
        "\n",
        "### Answering the first questions\n",
        "\n",
        "1. Did you define the metric for success before beginning?\n",
        "2. Did you understand the context for the question and business application?\n",
        "3. Did you consider whether the question could be answered with the available data?\n",
        "\n",
        "### Cleaning the data\n",
        "\n",
        "1. Did you identify the missing data?\n",
        "2. Is each variable one column?\n",
        "3. Do different data types appear in each table?\n",
        "4. Did you try to identify any errors or miscoding of variables?\n",
        "5. Did you check for outliers?\n",
        "\n",
        "### Exploratory analysis\n",
        "\n",
        "1. Did you make univariate plots (histogram, distplot, boxplot)?\n",
        "2. Did you consider correlations between variables (scatterplot, jointplot, kde plot, correlation matrix)?\n",
        "3. Did you check the units of all data points to make sure they are in the right range?\n",
        "\n",
        "### Presentations\n",
        "\n",
        "1. Did you lead with a brief, understandable to everyone of your problem?\n",
        "2. Did you explain the data, describe the question of interest?\n",
        "3. Did you make sure all legends and axes were legible from the back of the room?"
      ]
    },
    {
      "cell_type": "markdown",
      "metadata": {
        "colab_type": "text",
        "id": "ZBc0glanPm0M"
      },
      "source": [
        "## Dataset - Online Retailes Purchase\n",
        "\n",
        "Typically e-commerce datasets are proprietary and consequently hard to find among publicly available data. However, [The UCI Machine Learning Repository](http://archive.ics.uci.edu/ml/index.php) has made this dataset containing actual transactions from 2010 and 2011. The dataset is maintained on their site, where it can be found by the title \"Online Retail\".\n",
        "\n",
        "\n",
        "### Step 1 - Checking the data\n",
        "\n",
        "**Import tools set**"
      ]
    },
    {
      "cell_type": "markdown",
      "metadata": {
        "colab_type": "text",
        "id": "QKnfDWppC9_D"
      },
      "source": [
        "### Some of my ideas:\n",
        "\n",
        "1. How many countries, unique countries are there? And how do the price change in different countries?\n",
        "2. People from different countries will buy with different quantities?\n",
        "3. Longer description items will have more price? Does the length of description affect the price? Does the length of description will make consumers buy more quantities?\n",
        "4. Does the unit price affect the quantities?\n"
      ]
    },
    {
      "cell_type": "code",
      "metadata": {
        "colab_type": "code",
        "id": "9Cx3LXxfPm0N",
        "colab": {}
      },
      "source": [
        "# Your code here\n",
        "import numpy as np\n",
        "import pandas as pd\n",
        "import seaborn as sns\n",
        "import matplotlib.pyplot as plt\n",
        "%matplotlib inline\n",
        "import warnings\n",
        "warnings.filterwarnings('ignore')\n",
        "\n",
        "sns.set_style(\"whitegrid\")"
      ],
      "execution_count": 0,
      "outputs": []
    },
    {
      "cell_type": "markdown",
      "metadata": {
        "colab_type": "text",
        "id": "mFTQu0j6Pm0Q"
      },
      "source": [
        "**Import data**"
      ]
    },
    {
      "cell_type": "code",
      "metadata": {
        "colab_type": "code",
        "id": "w0YVchrVPm0R",
        "colab": {}
      },
      "source": [
        "link = \"https://ml101-khanhnguyen.s3-ap-southeast-1.amazonaws.com/devc/Online_Retail.csv\"\n",
        "# Note: set param encoding = 'latin1'\n",
        "# Your code here\n",
        "data = pd.read_csv(link, encoding='latin1')"
      ],
      "execution_count": 0,
      "outputs": []
    },
    {
      "cell_type": "code",
      "metadata": {
        "colab_type": "code",
        "id": "V3v8D3pTFrYh",
        "outputId": "f87a7a0c-b57d-4b0c-806d-5a1c36c2f689",
        "colab": {
          "base_uri": "https://localhost:8080/",
          "height": 204
        }
      },
      "source": [
        "# Print out First 5 rows from dataframe\n",
        "# Your code here\n",
        "data.head(5)"
      ],
      "execution_count": 37,
      "outputs": [
        {
          "output_type": "execute_result",
          "data": {
            "text/html": [
              "<div>\n",
              "<style scoped>\n",
              "    .dataframe tbody tr th:only-of-type {\n",
              "        vertical-align: middle;\n",
              "    }\n",
              "\n",
              "    .dataframe tbody tr th {\n",
              "        vertical-align: top;\n",
              "    }\n",
              "\n",
              "    .dataframe thead th {\n",
              "        text-align: right;\n",
              "    }\n",
              "</style>\n",
              "<table border=\"1\" class=\"dataframe\">\n",
              "  <thead>\n",
              "    <tr style=\"text-align: right;\">\n",
              "      <th></th>\n",
              "      <th>InvoiceNo</th>\n",
              "      <th>StockCode</th>\n",
              "      <th>Description</th>\n",
              "      <th>Quantity</th>\n",
              "      <th>InvoiceDate</th>\n",
              "      <th>UnitPrice</th>\n",
              "      <th>CustomerID</th>\n",
              "      <th>Country</th>\n",
              "    </tr>\n",
              "  </thead>\n",
              "  <tbody>\n",
              "    <tr>\n",
              "      <th>0</th>\n",
              "      <td>536365</td>\n",
              "      <td>85123A</td>\n",
              "      <td>WHITE HANGING HEART T-LIGHT HOLDER</td>\n",
              "      <td>6</td>\n",
              "      <td>12/1/10 8:26</td>\n",
              "      <td>2.55</td>\n",
              "      <td>17850.0</td>\n",
              "      <td>United Kingdom</td>\n",
              "    </tr>\n",
              "    <tr>\n",
              "      <th>1</th>\n",
              "      <td>536365</td>\n",
              "      <td>71053</td>\n",
              "      <td>WHITE METAL LANTERN</td>\n",
              "      <td>6</td>\n",
              "      <td>12/1/10 8:26</td>\n",
              "      <td>3.39</td>\n",
              "      <td>17850.0</td>\n",
              "      <td>United Kingdom</td>\n",
              "    </tr>\n",
              "    <tr>\n",
              "      <th>2</th>\n",
              "      <td>536365</td>\n",
              "      <td>84406B</td>\n",
              "      <td>CREAM CUPID HEARTS COAT HANGER</td>\n",
              "      <td>8</td>\n",
              "      <td>12/1/10 8:26</td>\n",
              "      <td>2.75</td>\n",
              "      <td>17850.0</td>\n",
              "      <td>United Kingdom</td>\n",
              "    </tr>\n",
              "    <tr>\n",
              "      <th>3</th>\n",
              "      <td>536365</td>\n",
              "      <td>84029G</td>\n",
              "      <td>KNITTED UNION FLAG HOT WATER BOTTLE</td>\n",
              "      <td>6</td>\n",
              "      <td>12/1/10 8:26</td>\n",
              "      <td>3.39</td>\n",
              "      <td>17850.0</td>\n",
              "      <td>United Kingdom</td>\n",
              "    </tr>\n",
              "    <tr>\n",
              "      <th>4</th>\n",
              "      <td>536365</td>\n",
              "      <td>84029E</td>\n",
              "      <td>RED WOOLLY HOTTIE WHITE HEART.</td>\n",
              "      <td>6</td>\n",
              "      <td>12/1/10 8:26</td>\n",
              "      <td>3.39</td>\n",
              "      <td>17850.0</td>\n",
              "      <td>United Kingdom</td>\n",
              "    </tr>\n",
              "  </tbody>\n",
              "</table>\n",
              "</div>"
            ],
            "text/plain": [
              "  InvoiceNo StockCode  ... CustomerID         Country\n",
              "0    536365    85123A  ...    17850.0  United Kingdom\n",
              "1    536365     71053  ...    17850.0  United Kingdom\n",
              "2    536365    84406B  ...    17850.0  United Kingdom\n",
              "3    536365    84029G  ...    17850.0  United Kingdom\n",
              "4    536365    84029E  ...    17850.0  United Kingdom\n",
              "\n",
              "[5 rows x 8 columns]"
            ]
          },
          "metadata": {
            "tags": []
          },
          "execution_count": 37
        }
      ]
    },
    {
      "cell_type": "code",
      "metadata": {
        "colab_type": "code",
        "id": "Ak3BMF9GH9Vz",
        "outputId": "b4fa93cc-e6a8-4414-e69f-dec1d288d6a9",
        "colab": {
          "base_uri": "https://localhost:8080/",
          "height": 359
        }
      },
      "source": [
        "data.sample(10)"
      ],
      "execution_count": 38,
      "outputs": [
        {
          "output_type": "execute_result",
          "data": {
            "text/html": [
              "<div>\n",
              "<style scoped>\n",
              "    .dataframe tbody tr th:only-of-type {\n",
              "        vertical-align: middle;\n",
              "    }\n",
              "\n",
              "    .dataframe tbody tr th {\n",
              "        vertical-align: top;\n",
              "    }\n",
              "\n",
              "    .dataframe thead th {\n",
              "        text-align: right;\n",
              "    }\n",
              "</style>\n",
              "<table border=\"1\" class=\"dataframe\">\n",
              "  <thead>\n",
              "    <tr style=\"text-align: right;\">\n",
              "      <th></th>\n",
              "      <th>InvoiceNo</th>\n",
              "      <th>StockCode</th>\n",
              "      <th>Description</th>\n",
              "      <th>Quantity</th>\n",
              "      <th>InvoiceDate</th>\n",
              "      <th>UnitPrice</th>\n",
              "      <th>CustomerID</th>\n",
              "      <th>Country</th>\n",
              "    </tr>\n",
              "  </thead>\n",
              "  <tbody>\n",
              "    <tr>\n",
              "      <th>186922</th>\n",
              "      <td>552888</td>\n",
              "      <td>16156S</td>\n",
              "      <td>WRAP PINK FAIRY CAKES</td>\n",
              "      <td>200</td>\n",
              "      <td>5/12/11 10:23</td>\n",
              "      <td>0.34</td>\n",
              "      <td>15061.0</td>\n",
              "      <td>United Kingdom</td>\n",
              "    </tr>\n",
              "    <tr>\n",
              "      <th>289041</th>\n",
              "      <td>562218</td>\n",
              "      <td>85123A</td>\n",
              "      <td>WHITE HANGING HEART T-LIGHT HOLDER</td>\n",
              "      <td>12</td>\n",
              "      <td>8/3/11 14:07</td>\n",
              "      <td>2.95</td>\n",
              "      <td>13851.0</td>\n",
              "      <td>United Kingdom</td>\n",
              "    </tr>\n",
              "    <tr>\n",
              "      <th>499856</th>\n",
              "      <td>578698</td>\n",
              "      <td>21485</td>\n",
              "      <td>RETROSPOT HEART HOT WATER BOTTLE</td>\n",
              "      <td>3</td>\n",
              "      <td>11/25/11 10:20</td>\n",
              "      <td>4.95</td>\n",
              "      <td>12620.0</td>\n",
              "      <td>France</td>\n",
              "    </tr>\n",
              "    <tr>\n",
              "      <th>257490</th>\n",
              "      <td>559535</td>\n",
              "      <td>M</td>\n",
              "      <td>Manual</td>\n",
              "      <td>1</td>\n",
              "      <td>7/10/11 12:16</td>\n",
              "      <td>3.75</td>\n",
              "      <td>17841.0</td>\n",
              "      <td>United Kingdom</td>\n",
              "    </tr>\n",
              "    <tr>\n",
              "      <th>504330</th>\n",
              "      <td>578947</td>\n",
              "      <td>21287</td>\n",
              "      <td>SCENTED VELVET LOUNGE CANDLE</td>\n",
              "      <td>12</td>\n",
              "      <td>11/27/11 13:49</td>\n",
              "      <td>0.38</td>\n",
              "      <td>14547.0</td>\n",
              "      <td>United Kingdom</td>\n",
              "    </tr>\n",
              "    <tr>\n",
              "      <th>300624</th>\n",
              "      <td>563206</td>\n",
              "      <td>23068</td>\n",
              "      <td>ALUMINIUM STAMPED HEART</td>\n",
              "      <td>8</td>\n",
              "      <td>8/14/11 12:08</td>\n",
              "      <td>2.49</td>\n",
              "      <td>17613.0</td>\n",
              "      <td>United Kingdom</td>\n",
              "    </tr>\n",
              "    <tr>\n",
              "      <th>166168</th>\n",
              "      <td>550899</td>\n",
              "      <td>POST</td>\n",
              "      <td>POSTAGE</td>\n",
              "      <td>4</td>\n",
              "      <td>4/21/11 12:07</td>\n",
              "      <td>40.00</td>\n",
              "      <td>13505.0</td>\n",
              "      <td>Switzerland</td>\n",
              "    </tr>\n",
              "    <tr>\n",
              "      <th>172685</th>\n",
              "      <td>C551551</td>\n",
              "      <td>M</td>\n",
              "      <td>Manual</td>\n",
              "      <td>-1</td>\n",
              "      <td>5/3/11 10:08</td>\n",
              "      <td>0.29</td>\n",
              "      <td>17841.0</td>\n",
              "      <td>United Kingdom</td>\n",
              "    </tr>\n",
              "    <tr>\n",
              "      <th>512110</th>\n",
              "      <td>579508</td>\n",
              "      <td>22076</td>\n",
              "      <td>6 RIBBONS EMPIRE</td>\n",
              "      <td>3</td>\n",
              "      <td>11/29/11 16:33</td>\n",
              "      <td>1.25</td>\n",
              "      <td>NaN</td>\n",
              "      <td>United Kingdom</td>\n",
              "    </tr>\n",
              "    <tr>\n",
              "      <th>272339</th>\n",
              "      <td>560772</td>\n",
              "      <td>22199</td>\n",
              "      <td>FRYING PAN RED RETROSPOT</td>\n",
              "      <td>3</td>\n",
              "      <td>7/20/11 16:12</td>\n",
              "      <td>4.13</td>\n",
              "      <td>NaN</td>\n",
              "      <td>United Kingdom</td>\n",
              "    </tr>\n",
              "  </tbody>\n",
              "</table>\n",
              "</div>"
            ],
            "text/plain": [
              "       InvoiceNo StockCode  ... CustomerID         Country\n",
              "186922    552888    16156S  ...    15061.0  United Kingdom\n",
              "289041    562218    85123A  ...    13851.0  United Kingdom\n",
              "499856    578698     21485  ...    12620.0          France\n",
              "257490    559535         M  ...    17841.0  United Kingdom\n",
              "504330    578947     21287  ...    14547.0  United Kingdom\n",
              "300624    563206     23068  ...    17613.0  United Kingdom\n",
              "166168    550899      POST  ...    13505.0     Switzerland\n",
              "172685   C551551         M  ...    17841.0  United Kingdom\n",
              "512110    579508     22076  ...        NaN  United Kingdom\n",
              "272339    560772     22199  ...        NaN  United Kingdom\n",
              "\n",
              "[10 rows x 8 columns]"
            ]
          },
          "metadata": {
            "tags": []
          },
          "execution_count": 38
        }
      ]
    },
    {
      "cell_type": "code",
      "metadata": {
        "colab_type": "code",
        "id": "AWnmPduJE_Bp",
        "outputId": "bcedefc2-e559-487d-bf5d-6fe834f92f61",
        "colab": {
          "base_uri": "https://localhost:8080/",
          "height": 238
        }
      },
      "source": [
        "# Print out brief info\n",
        "data.info()"
      ],
      "execution_count": 39,
      "outputs": [
        {
          "output_type": "stream",
          "text": [
            "<class 'pandas.core.frame.DataFrame'>\n",
            "RangeIndex: 541909 entries, 0 to 541908\n",
            "Data columns (total 8 columns):\n",
            "InvoiceNo      541909 non-null object\n",
            "StockCode      541909 non-null object\n",
            "Description    540455 non-null object\n",
            "Quantity       541909 non-null int64\n",
            "InvoiceDate    541909 non-null object\n",
            "UnitPrice      541909 non-null float64\n",
            "CustomerID     406829 non-null float64\n",
            "Country        541909 non-null object\n",
            "dtypes: float64(2), int64(1), object(5)\n",
            "memory usage: 33.1+ MB\n"
          ],
          "name": "stdout"
        }
      ]
    },
    {
      "cell_type": "code",
      "metadata": {
        "colab_type": "code",
        "id": "u4Msf54uFy4w",
        "outputId": "3007cd0c-0ea5-4f0f-b14e-fcd5a4cf64e5",
        "colab": {
          "base_uri": "https://localhost:8080/",
          "height": 390
        }
      },
      "source": [
        "data.describe(include=\"all\")"
      ],
      "execution_count": 40,
      "outputs": [
        {
          "output_type": "execute_result",
          "data": {
            "text/html": [
              "<div>\n",
              "<style scoped>\n",
              "    .dataframe tbody tr th:only-of-type {\n",
              "        vertical-align: middle;\n",
              "    }\n",
              "\n",
              "    .dataframe tbody tr th {\n",
              "        vertical-align: top;\n",
              "    }\n",
              "\n",
              "    .dataframe thead th {\n",
              "        text-align: right;\n",
              "    }\n",
              "</style>\n",
              "<table border=\"1\" class=\"dataframe\">\n",
              "  <thead>\n",
              "    <tr style=\"text-align: right;\">\n",
              "      <th></th>\n",
              "      <th>InvoiceNo</th>\n",
              "      <th>StockCode</th>\n",
              "      <th>Description</th>\n",
              "      <th>Quantity</th>\n",
              "      <th>InvoiceDate</th>\n",
              "      <th>UnitPrice</th>\n",
              "      <th>CustomerID</th>\n",
              "      <th>Country</th>\n",
              "    </tr>\n",
              "  </thead>\n",
              "  <tbody>\n",
              "    <tr>\n",
              "      <th>count</th>\n",
              "      <td>541909</td>\n",
              "      <td>541909</td>\n",
              "      <td>540455</td>\n",
              "      <td>541909.000000</td>\n",
              "      <td>541909</td>\n",
              "      <td>541909.000000</td>\n",
              "      <td>406829.000000</td>\n",
              "      <td>541909</td>\n",
              "    </tr>\n",
              "    <tr>\n",
              "      <th>unique</th>\n",
              "      <td>25900</td>\n",
              "      <td>4070</td>\n",
              "      <td>4223</td>\n",
              "      <td>NaN</td>\n",
              "      <td>23260</td>\n",
              "      <td>NaN</td>\n",
              "      <td>NaN</td>\n",
              "      <td>38</td>\n",
              "    </tr>\n",
              "    <tr>\n",
              "      <th>top</th>\n",
              "      <td>573585</td>\n",
              "      <td>85123A</td>\n",
              "      <td>WHITE HANGING HEART T-LIGHT HOLDER</td>\n",
              "      <td>NaN</td>\n",
              "      <td>10/31/11 14:41</td>\n",
              "      <td>NaN</td>\n",
              "      <td>NaN</td>\n",
              "      <td>United Kingdom</td>\n",
              "    </tr>\n",
              "    <tr>\n",
              "      <th>freq</th>\n",
              "      <td>1114</td>\n",
              "      <td>2313</td>\n",
              "      <td>2369</td>\n",
              "      <td>NaN</td>\n",
              "      <td>1114</td>\n",
              "      <td>NaN</td>\n",
              "      <td>NaN</td>\n",
              "      <td>495478</td>\n",
              "    </tr>\n",
              "    <tr>\n",
              "      <th>mean</th>\n",
              "      <td>NaN</td>\n",
              "      <td>NaN</td>\n",
              "      <td>NaN</td>\n",
              "      <td>9.552250</td>\n",
              "      <td>NaN</td>\n",
              "      <td>4.611114</td>\n",
              "      <td>15287.690570</td>\n",
              "      <td>NaN</td>\n",
              "    </tr>\n",
              "    <tr>\n",
              "      <th>std</th>\n",
              "      <td>NaN</td>\n",
              "      <td>NaN</td>\n",
              "      <td>NaN</td>\n",
              "      <td>218.081158</td>\n",
              "      <td>NaN</td>\n",
              "      <td>96.759853</td>\n",
              "      <td>1713.600303</td>\n",
              "      <td>NaN</td>\n",
              "    </tr>\n",
              "    <tr>\n",
              "      <th>min</th>\n",
              "      <td>NaN</td>\n",
              "      <td>NaN</td>\n",
              "      <td>NaN</td>\n",
              "      <td>-80995.000000</td>\n",
              "      <td>NaN</td>\n",
              "      <td>-11062.060000</td>\n",
              "      <td>12346.000000</td>\n",
              "      <td>NaN</td>\n",
              "    </tr>\n",
              "    <tr>\n",
              "      <th>25%</th>\n",
              "      <td>NaN</td>\n",
              "      <td>NaN</td>\n",
              "      <td>NaN</td>\n",
              "      <td>1.000000</td>\n",
              "      <td>NaN</td>\n",
              "      <td>1.250000</td>\n",
              "      <td>13953.000000</td>\n",
              "      <td>NaN</td>\n",
              "    </tr>\n",
              "    <tr>\n",
              "      <th>50%</th>\n",
              "      <td>NaN</td>\n",
              "      <td>NaN</td>\n",
              "      <td>NaN</td>\n",
              "      <td>3.000000</td>\n",
              "      <td>NaN</td>\n",
              "      <td>2.080000</td>\n",
              "      <td>15152.000000</td>\n",
              "      <td>NaN</td>\n",
              "    </tr>\n",
              "    <tr>\n",
              "      <th>75%</th>\n",
              "      <td>NaN</td>\n",
              "      <td>NaN</td>\n",
              "      <td>NaN</td>\n",
              "      <td>10.000000</td>\n",
              "      <td>NaN</td>\n",
              "      <td>4.130000</td>\n",
              "      <td>16791.000000</td>\n",
              "      <td>NaN</td>\n",
              "    </tr>\n",
              "    <tr>\n",
              "      <th>max</th>\n",
              "      <td>NaN</td>\n",
              "      <td>NaN</td>\n",
              "      <td>NaN</td>\n",
              "      <td>80995.000000</td>\n",
              "      <td>NaN</td>\n",
              "      <td>38970.000000</td>\n",
              "      <td>18287.000000</td>\n",
              "      <td>NaN</td>\n",
              "    </tr>\n",
              "  </tbody>\n",
              "</table>\n",
              "</div>"
            ],
            "text/plain": [
              "       InvoiceNo StockCode  ...     CustomerID         Country\n",
              "count     541909    541909  ...  406829.000000          541909\n",
              "unique     25900      4070  ...            NaN              38\n",
              "top       573585    85123A  ...            NaN  United Kingdom\n",
              "freq        1114      2313  ...            NaN          495478\n",
              "mean         NaN       NaN  ...   15287.690570             NaN\n",
              "std          NaN       NaN  ...    1713.600303             NaN\n",
              "min          NaN       NaN  ...   12346.000000             NaN\n",
              "25%          NaN       NaN  ...   13953.000000             NaN\n",
              "50%          NaN       NaN  ...   15152.000000             NaN\n",
              "75%          NaN       NaN  ...   16791.000000             NaN\n",
              "max          NaN       NaN  ...   18287.000000             NaN\n",
              "\n",
              "[11 rows x 8 columns]"
            ]
          },
          "metadata": {
            "tags": []
          },
          "execution_count": 40
        }
      ]
    },
    {
      "cell_type": "markdown",
      "metadata": {
        "colab_type": "text",
        "id": "hdaJcTUkEYEh"
      },
      "source": [
        "### My observation: \n",
        "Data columns have mixtype, so I had to use the param ```include=\"all\"```"
      ]
    },
    {
      "cell_type": "markdown",
      "metadata": {
        "colab_type": "text",
        "id": "wY6yv3UsPm0k"
      },
      "source": [
        "### Step 2 - Cleaning the data\n",
        "\n",
        "Few of useful data cleaning functions:\n",
        "\n",
        "* `s.astype('category')` # This will convert the datatype of the series to float *Please note that \"s\" here is a Pandas Series\n",
        "\n",
        "* `s.replace(1,'one')` # This will replace all values equal to 1 with 'one'\n",
        "\n",
        "* `s.replace([1,3],['one','three'])` # This will replace all 1 with 'one' and 3 with 'three'\n",
        "\n",
        "* `data.rename(columns=lambda x: x + 1)` # Mass renaming of columns\n",
        "\n",
        "* `data.rename(columns={'oldname': 'new name'})` # Selective renaming\n",
        "\n",
        "* `data.set_index('column_one')` #  This will change the index\n",
        "\n",
        "* `data.rename(index=lambda x: x + 1)` # Mass renaming of index\n",
        "\n",
        "* `data.dropna()` # Remove missing values\n",
        "\n",
        "* `data.fillna(x)` #  This will replaces all null values with x\n",
        "\n",
        "* `s.fillna(s.mean())` # This will replace all null values with the mean (mean can be replaced with almost any function from the below section) :\n",
        "\n",
        "* `data.corr()` # This will return the correlation between columns in a DataFrame\n",
        "\n",
        "* `data.count()` # This will return the number of non-null values in each DataFrame column\n",
        "\n",
        "* `data.max()` # This will return the highest value in each column\n",
        "\n",
        "* `data.min()` # This will return the lowest value in each column\n",
        "\n",
        "* `data.median()` # This will return the median of each column\n",
        "\n",
        "* `data.std()` # This will returns the standard deviation of each column\n"
      ]
    },
    {
      "cell_type": "markdown",
      "metadata": {
        "colab_type": "text",
        "id": "rcNsGWarPm06"
      },
      "source": [
        "**Check for NaN values**"
      ]
    },
    {
      "cell_type": "code",
      "metadata": {
        "colab_type": "code",
        "id": "TqLxHGy2Pm06",
        "outputId": "57f02270-c96b-4204-be76-95d71f4829be",
        "colab": {
          "base_uri": "https://localhost:8080/",
          "height": 170
        }
      },
      "source": [
        "# Your code here\n",
        "data.isnull().sum()"
      ],
      "execution_count": 41,
      "outputs": [
        {
          "output_type": "execute_result",
          "data": {
            "text/plain": [
              "InvoiceNo           0\n",
              "StockCode           0\n",
              "Description      1454\n",
              "Quantity            0\n",
              "InvoiceDate         0\n",
              "UnitPrice           0\n",
              "CustomerID     135080\n",
              "Country             0\n",
              "dtype: int64"
            ]
          },
          "metadata": {
            "tags": []
          },
          "execution_count": 41
        }
      ]
    },
    {
      "cell_type": "markdown",
      "metadata": {
        "colab_type": "text",
        "id": "RdhPk_x1Pm0-"
      },
      "source": [
        "**Examine few examples of NaN values**"
      ]
    },
    {
      "cell_type": "code",
      "metadata": {
        "colab_type": "code",
        "id": "3kGYpbdOPm0-",
        "outputId": "f3cbd1dc-8839-4b62-f621-cb7d4d22a8a9",
        "colab": {
          "base_uri": "https://localhost:8080/",
          "height": 204
        }
      },
      "source": [
        "# List all NaN values\n",
        "data[data['CustomerID'].isnull()].sample(5)"
      ],
      "execution_count": 42,
      "outputs": [
        {
          "output_type": "execute_result",
          "data": {
            "text/html": [
              "<div>\n",
              "<style scoped>\n",
              "    .dataframe tbody tr th:only-of-type {\n",
              "        vertical-align: middle;\n",
              "    }\n",
              "\n",
              "    .dataframe tbody tr th {\n",
              "        vertical-align: top;\n",
              "    }\n",
              "\n",
              "    .dataframe thead th {\n",
              "        text-align: right;\n",
              "    }\n",
              "</style>\n",
              "<table border=\"1\" class=\"dataframe\">\n",
              "  <thead>\n",
              "    <tr style=\"text-align: right;\">\n",
              "      <th></th>\n",
              "      <th>InvoiceNo</th>\n",
              "      <th>StockCode</th>\n",
              "      <th>Description</th>\n",
              "      <th>Quantity</th>\n",
              "      <th>InvoiceDate</th>\n",
              "      <th>UnitPrice</th>\n",
              "      <th>CustomerID</th>\n",
              "      <th>Country</th>\n",
              "    </tr>\n",
              "  </thead>\n",
              "  <tbody>\n",
              "    <tr>\n",
              "      <th>398735</th>\n",
              "      <td>571257</td>\n",
              "      <td>21942</td>\n",
              "      <td>SKULLS DESIGN FLANNEL</td>\n",
              "      <td>1</td>\n",
              "      <td>10/14/11 17:17</td>\n",
              "      <td>1.63</td>\n",
              "      <td>NaN</td>\n",
              "      <td>United Kingdom</td>\n",
              "    </tr>\n",
              "    <tr>\n",
              "      <th>66567</th>\n",
              "      <td>541809</td>\n",
              "      <td>85123a</td>\n",
              "      <td>WHITE HANGING HEART T-LIGHT HOLDER</td>\n",
              "      <td>1</td>\n",
              "      <td>1/21/11 14:58</td>\n",
              "      <td>6.63</td>\n",
              "      <td>NaN</td>\n",
              "      <td>United Kingdom</td>\n",
              "    </tr>\n",
              "    <tr>\n",
              "      <th>201586</th>\n",
              "      <td>554310</td>\n",
              "      <td>21539</td>\n",
              "      <td>RED RETROSPOT BUTTER DISH</td>\n",
              "      <td>1</td>\n",
              "      <td>5/23/11 15:25</td>\n",
              "      <td>9.96</td>\n",
              "      <td>NaN</td>\n",
              "      <td>United Kingdom</td>\n",
              "    </tr>\n",
              "    <tr>\n",
              "      <th>203148</th>\n",
              "      <td>554512</td>\n",
              "      <td>21933</td>\n",
              "      <td>PINK VINTAGE PAISLEY PICNIC BAG</td>\n",
              "      <td>5</td>\n",
              "      <td>5/24/11 15:54</td>\n",
              "      <td>2.46</td>\n",
              "      <td>NaN</td>\n",
              "      <td>United Kingdom</td>\n",
              "    </tr>\n",
              "    <tr>\n",
              "      <th>264173</th>\n",
              "      <td>560090</td>\n",
              "      <td>16237</td>\n",
              "      <td>SLEEPING CAT ERASERS</td>\n",
              "      <td>1</td>\n",
              "      <td>7/14/11 16:46</td>\n",
              "      <td>0.42</td>\n",
              "      <td>NaN</td>\n",
              "      <td>United Kingdom</td>\n",
              "    </tr>\n",
              "  </tbody>\n",
              "</table>\n",
              "</div>"
            ],
            "text/plain": [
              "       InvoiceNo StockCode  ... CustomerID         Country\n",
              "398735    571257     21942  ...        NaN  United Kingdom\n",
              "66567     541809    85123a  ...        NaN  United Kingdom\n",
              "201586    554310     21539  ...        NaN  United Kingdom\n",
              "203148    554512     21933  ...        NaN  United Kingdom\n",
              "264173    560090     16237  ...        NaN  United Kingdom\n",
              "\n",
              "[5 rows x 8 columns]"
            ]
          },
          "metadata": {
            "tags": []
          },
          "execution_count": 42
        }
      ]
    },
    {
      "cell_type": "markdown",
      "metadata": {
        "colab_type": "text",
        "id": "mwRqh6KSJU2i"
      },
      "source": [
        "### My observation:\n",
        "- Why customers without IDs can buy items? I thought that they can only buy items when they're logged in - which means they must have a customer ID\n",
        "- For the null description: maybe the seller is lazy"
      ]
    },
    {
      "cell_type": "markdown",
      "metadata": {
        "colab_type": "text",
        "id": "EfyVbXSBZvnB"
      },
      "source": [
        "### Remove items without description"
      ]
    },
    {
      "cell_type": "code",
      "metadata": {
        "colab_type": "code",
        "id": "KViloNJZZy9z",
        "colab": {}
      },
      "source": [
        "_desIndex = data[data['Description'].isnull()].index\n",
        "data.drop(_desIndex, inplace=True)"
      ],
      "execution_count": 0,
      "outputs": []
    },
    {
      "cell_type": "markdown",
      "metadata": {
        "colab_type": "text",
        "id": "RDOAQ4MUUQRF"
      },
      "source": [
        "### More about null Customer ID"
      ]
    },
    {
      "cell_type": "code",
      "metadata": {
        "colab_type": "code",
        "id": "fRo6xKkTUPNw",
        "colab": {}
      },
      "source": [
        "# from data info there are some NaN customer ids\n",
        "# I will remove them\n",
        "_cusIndex = data[data['CustomerID'].isnull()].index\n",
        "data.drop(_cusIndex, inplace=True)"
      ],
      "execution_count": 0,
      "outputs": []
    },
    {
      "cell_type": "markdown",
      "metadata": {
        "colab_type": "text",
        "id": "_xOmfHhMPO1W"
      },
      "source": [
        "### Check unique CustomerID"
      ]
    },
    {
      "cell_type": "code",
      "metadata": {
        "colab_type": "code",
        "id": "U_UpGiRKPNJJ",
        "outputId": "2928b9a1-9f25-4a94-a221-11c19eede8ca",
        "colab": {
          "base_uri": "https://localhost:8080/",
          "height": 34
        }
      },
      "source": [
        "data['CustomerID'].nunique() == data['CustomerID'].count()"
      ],
      "execution_count": 45,
      "outputs": [
        {
          "output_type": "execute_result",
          "data": {
            "text/plain": [
              "False"
            ]
          },
          "metadata": {
            "tags": []
          },
          "execution_count": 45
        }
      ]
    },
    {
      "cell_type": "markdown",
      "metadata": {
        "colab_type": "text",
        "id": "o04wG1R8PhvZ"
      },
      "source": [
        "### My observation:\n",
        "Duplicate IDs may mean that 1 customer buys many times"
      ]
    },
    {
      "cell_type": "markdown",
      "metadata": {
        "colab_type": "text",
        "id": "OpAhltPeHaLR"
      },
      "source": [
        "**Exclude negative Quatity entries**"
      ]
    },
    {
      "cell_type": "code",
      "metadata": {
        "colab_type": "code",
        "id": "71F-5PY-HZ6T",
        "outputId": "fc1dda83-9fe4-4b24-c3e4-2e10b526a11d",
        "colab": {
          "base_uri": "https://localhost:8080/",
          "height": 376
        }
      },
      "source": [
        "negative_quantity = data[data['Quantity'] < 0]\n",
        "print(len(negative_quantity))\n",
        "negative_quantity.sample(10)"
      ],
      "execution_count": 46,
      "outputs": [
        {
          "output_type": "stream",
          "text": [
            "8905\n"
          ],
          "name": "stdout"
        },
        {
          "output_type": "execute_result",
          "data": {
            "text/html": [
              "<div>\n",
              "<style scoped>\n",
              "    .dataframe tbody tr th:only-of-type {\n",
              "        vertical-align: middle;\n",
              "    }\n",
              "\n",
              "    .dataframe tbody tr th {\n",
              "        vertical-align: top;\n",
              "    }\n",
              "\n",
              "    .dataframe thead th {\n",
              "        text-align: right;\n",
              "    }\n",
              "</style>\n",
              "<table border=\"1\" class=\"dataframe\">\n",
              "  <thead>\n",
              "    <tr style=\"text-align: right;\">\n",
              "      <th></th>\n",
              "      <th>InvoiceNo</th>\n",
              "      <th>StockCode</th>\n",
              "      <th>Description</th>\n",
              "      <th>Quantity</th>\n",
              "      <th>InvoiceDate</th>\n",
              "      <th>UnitPrice</th>\n",
              "      <th>CustomerID</th>\n",
              "      <th>Country</th>\n",
              "    </tr>\n",
              "  </thead>\n",
              "  <tbody>\n",
              "    <tr>\n",
              "      <th>445236</th>\n",
              "      <td>C574828</td>\n",
              "      <td>21535</td>\n",
              "      <td>RED RETROSPOT SMALL MILK JUG</td>\n",
              "      <td>-3</td>\n",
              "      <td>11/7/11 11:12</td>\n",
              "      <td>2.55</td>\n",
              "      <td>16232.0</td>\n",
              "      <td>United Kingdom</td>\n",
              "    </tr>\n",
              "    <tr>\n",
              "      <th>74462</th>\n",
              "      <td>C542427</td>\n",
              "      <td>85159A</td>\n",
              "      <td>BLACK TEA,COFFEE,SUGAR JARS</td>\n",
              "      <td>-1</td>\n",
              "      <td>1/28/11 9:34</td>\n",
              "      <td>6.35</td>\n",
              "      <td>14180.0</td>\n",
              "      <td>United Kingdom</td>\n",
              "    </tr>\n",
              "    <tr>\n",
              "      <th>355892</th>\n",
              "      <td>C567978</td>\n",
              "      <td>22178</td>\n",
              "      <td>VICTORIAN GLASS HANGING T-LIGHT</td>\n",
              "      <td>-1</td>\n",
              "      <td>9/23/11 10:40</td>\n",
              "      <td>1.95</td>\n",
              "      <td>14546.0</td>\n",
              "      <td>United Kingdom</td>\n",
              "    </tr>\n",
              "    <tr>\n",
              "      <th>268333</th>\n",
              "      <td>C560409</td>\n",
              "      <td>21755</td>\n",
              "      <td>LOVE BUILDING BLOCK WORD</td>\n",
              "      <td>-3</td>\n",
              "      <td>7/18/11 14:24</td>\n",
              "      <td>5.95</td>\n",
              "      <td>16717.0</td>\n",
              "      <td>United Kingdom</td>\n",
              "    </tr>\n",
              "    <tr>\n",
              "      <th>130692</th>\n",
              "      <td>C547502</td>\n",
              "      <td>84755</td>\n",
              "      <td>COLOUR GLASS T-LIGHT HOLDER HANGING</td>\n",
              "      <td>-1</td>\n",
              "      <td>3/23/11 12:42</td>\n",
              "      <td>0.65</td>\n",
              "      <td>14513.0</td>\n",
              "      <td>United Kingdom</td>\n",
              "    </tr>\n",
              "    <tr>\n",
              "      <th>195820</th>\n",
              "      <td>C553748</td>\n",
              "      <td>22194</td>\n",
              "      <td>BLACK DINER WALL CLOCK</td>\n",
              "      <td>-2</td>\n",
              "      <td>5/19/11 9:57</td>\n",
              "      <td>8.50</td>\n",
              "      <td>16676.0</td>\n",
              "      <td>United Kingdom</td>\n",
              "    </tr>\n",
              "    <tr>\n",
              "      <th>349893</th>\n",
              "      <td>C567543</td>\n",
              "      <td>23345</td>\n",
              "      <td>DOLLY GIRL BEAKER</td>\n",
              "      <td>-6</td>\n",
              "      <td>9/21/11 10:19</td>\n",
              "      <td>1.25</td>\n",
              "      <td>13418.0</td>\n",
              "      <td>United Kingdom</td>\n",
              "    </tr>\n",
              "    <tr>\n",
              "      <th>479277</th>\n",
              "      <td>C577151</td>\n",
              "      <td>22231</td>\n",
              "      <td>JIGSAW TREE WITH BIRDHOUSE</td>\n",
              "      <td>-15</td>\n",
              "      <td>11/18/11 9:50</td>\n",
              "      <td>1.45</td>\n",
              "      <td>12781.0</td>\n",
              "      <td>Czech Republic</td>\n",
              "    </tr>\n",
              "    <tr>\n",
              "      <th>384031</th>\n",
              "      <td>C570099</td>\n",
              "      <td>20723</td>\n",
              "      <td>STRAWBERRY CHARLOTTE BAG</td>\n",
              "      <td>-1</td>\n",
              "      <td>10/7/11 12:11</td>\n",
              "      <td>0.72</td>\n",
              "      <td>13798.0</td>\n",
              "      <td>United Kingdom</td>\n",
              "    </tr>\n",
              "    <tr>\n",
              "      <th>196361</th>\n",
              "      <td>C553840</td>\n",
              "      <td>22423</td>\n",
              "      <td>REGENCY CAKESTAND 3 TIER</td>\n",
              "      <td>-2</td>\n",
              "      <td>5/19/11 12:15</td>\n",
              "      <td>10.95</td>\n",
              "      <td>12471.0</td>\n",
              "      <td>Germany</td>\n",
              "    </tr>\n",
              "  </tbody>\n",
              "</table>\n",
              "</div>"
            ],
            "text/plain": [
              "       InvoiceNo StockCode  ... CustomerID         Country\n",
              "445236   C574828     21535  ...    16232.0  United Kingdom\n",
              "74462    C542427    85159A  ...    14180.0  United Kingdom\n",
              "355892   C567978     22178  ...    14546.0  United Kingdom\n",
              "268333   C560409     21755  ...    16717.0  United Kingdom\n",
              "130692   C547502     84755  ...    14513.0  United Kingdom\n",
              "195820   C553748     22194  ...    16676.0  United Kingdom\n",
              "349893   C567543     23345  ...    13418.0  United Kingdom\n",
              "479277   C577151     22231  ...    12781.0  Czech Republic\n",
              "384031   C570099     20723  ...    13798.0  United Kingdom\n",
              "196361   C553840     22423  ...    12471.0         Germany\n",
              "\n",
              "[10 rows x 8 columns]"
            ]
          },
          "metadata": {
            "tags": []
          },
          "execution_count": 46
        }
      ]
    },
    {
      "cell_type": "code",
      "metadata": {
        "colab_type": "code",
        "id": "WcVW38lRM4sK",
        "colab": {}
      },
      "source": [
        "data[data['Quantity'] < 0] = 0"
      ],
      "execution_count": 0,
      "outputs": []
    },
    {
      "cell_type": "markdown",
      "metadata": {
        "colab_type": "text",
        "id": "xoN_eb-0NRQt"
      },
      "source": [
        "### My observation:\n",
        "How can they have negative quantity?\n",
        "\n",
        "I replaced negative quantity with zero, because I think negative quantity is the same as you didn't buy the item"
      ]
    },
    {
      "cell_type": "markdown",
      "metadata": {
        "colab_type": "text",
        "id": "s5idc5z2H1zJ"
      },
      "source": [
        "**Exclude negative Price entries**"
      ]
    },
    {
      "cell_type": "code",
      "metadata": {
        "colab_type": "code",
        "id": "_8OdtEVFH1fr",
        "outputId": "42853430-8859-4c9e-b1fd-ced20104f2f4",
        "colab": {
          "base_uri": "https://localhost:8080/",
          "height": 34
        }
      },
      "source": [
        "negative_price = data[data['UnitPrice'] <= 0]\n",
        "print(len(negative_price))\n",
        "# I will remove the items with price < 0 and free items (price = 0) because I think free items don't make sense. I think."
      ],
      "execution_count": 48,
      "outputs": [
        {
          "output_type": "stream",
          "text": [
            "8945\n"
          ],
          "name": "stdout"
        }
      ]
    },
    {
      "cell_type": "code",
      "metadata": {
        "colab_type": "code",
        "id": "Q-uWlIdGN6_p",
        "colab": {}
      },
      "source": [
        "_index = data[data['UnitPrice'] <= 0].index\n",
        "data.drop(_index, inplace=True)"
      ],
      "execution_count": 0,
      "outputs": []
    },
    {
      "cell_type": "markdown",
      "metadata": {
        "colab_type": "text",
        "id": "KMWai3tgO6Qd"
      },
      "source": [
        "### My observation:\n",
        "There are only 2 rows with negative price, and I don't understand their description, so I just dropped it."
      ]
    },
    {
      "cell_type": "markdown",
      "metadata": {
        "colab_type": "text",
        "id": "bboAN211RWqJ"
      },
      "source": [
        "### Change column types because I want to change"
      ]
    },
    {
      "cell_type": "code",
      "metadata": {
        "colab_type": "code",
        "id": "rmQ2BJf6PNgi",
        "outputId": "5a0f002f-c253-42b0-83b5-c57cc3e52985",
        "colab": {
          "base_uri": "https://localhost:8080/",
          "height": 238
        }
      },
      "source": [
        "data.info()"
      ],
      "execution_count": 50,
      "outputs": [
        {
          "output_type": "stream",
          "text": [
            "<class 'pandas.core.frame.DataFrame'>\n",
            "Int64Index: 397884 entries, 0 to 541908\n",
            "Data columns (total 8 columns):\n",
            "InvoiceNo      397884 non-null object\n",
            "StockCode      397884 non-null object\n",
            "Description    397884 non-null object\n",
            "Quantity       397884 non-null int64\n",
            "InvoiceDate    397884 non-null object\n",
            "UnitPrice      397884 non-null float64\n",
            "CustomerID     397884 non-null float64\n",
            "Country        397884 non-null object\n",
            "dtypes: float64(2), int64(1), object(5)\n",
            "memory usage: 27.3+ MB\n"
          ],
          "name": "stdout"
        }
      ]
    },
    {
      "cell_type": "code",
      "metadata": {
        "colab_type": "code",
        "id": "g_7z3aPhi7pp",
        "colab": {}
      },
      "source": [
        "data['CustomerID'] = data['CustomerID'].astype('int64')"
      ],
      "execution_count": 0,
      "outputs": []
    },
    {
      "cell_type": "markdown",
      "metadata": {
        "colab_type": "text",
        "id": "Fp1TuJCIaXxG"
      },
      "source": [
        "### I will add a column Spent = Quantity * UnitPrice for each user"
      ]
    },
    {
      "cell_type": "code",
      "metadata": {
        "colab_type": "code",
        "id": "uMW2DSXxagJt",
        "outputId": "2c7e26e9-9418-4a8b-8f1d-2ad971478cdb",
        "colab": {
          "base_uri": "https://localhost:8080/",
          "height": 359
        }
      },
      "source": [
        "data[\"Spent\"] = data['Quantity'] * data['UnitPrice']\n",
        "data.sample(10)"
      ],
      "execution_count": 52,
      "outputs": [
        {
          "output_type": "execute_result",
          "data": {
            "text/html": [
              "<div>\n",
              "<style scoped>\n",
              "    .dataframe tbody tr th:only-of-type {\n",
              "        vertical-align: middle;\n",
              "    }\n",
              "\n",
              "    .dataframe tbody tr th {\n",
              "        vertical-align: top;\n",
              "    }\n",
              "\n",
              "    .dataframe thead th {\n",
              "        text-align: right;\n",
              "    }\n",
              "</style>\n",
              "<table border=\"1\" class=\"dataframe\">\n",
              "  <thead>\n",
              "    <tr style=\"text-align: right;\">\n",
              "      <th></th>\n",
              "      <th>InvoiceNo</th>\n",
              "      <th>StockCode</th>\n",
              "      <th>Description</th>\n",
              "      <th>Quantity</th>\n",
              "      <th>InvoiceDate</th>\n",
              "      <th>UnitPrice</th>\n",
              "      <th>CustomerID</th>\n",
              "      <th>Country</th>\n",
              "      <th>Spent</th>\n",
              "    </tr>\n",
              "  </thead>\n",
              "  <tbody>\n",
              "    <tr>\n",
              "      <th>201309</th>\n",
              "      <td>554280</td>\n",
              "      <td>23301</td>\n",
              "      <td>GARDENERS KNEELING PAD KEEP CALM</td>\n",
              "      <td>12</td>\n",
              "      <td>5/23/11 13:35</td>\n",
              "      <td>1.65</td>\n",
              "      <td>14817</td>\n",
              "      <td>United Kingdom</td>\n",
              "      <td>19.80</td>\n",
              "    </tr>\n",
              "    <tr>\n",
              "      <th>7901</th>\n",
              "      <td>537065</td>\n",
              "      <td>21774</td>\n",
              "      <td>DECORATIVE CATS BATHROOM BOTTLE</td>\n",
              "      <td>12</td>\n",
              "      <td>12/5/10 11:57</td>\n",
              "      <td>1.25</td>\n",
              "      <td>12567</td>\n",
              "      <td>France</td>\n",
              "      <td>15.00</td>\n",
              "    </tr>\n",
              "    <tr>\n",
              "      <th>237662</th>\n",
              "      <td>557878</td>\n",
              "      <td>20752</td>\n",
              "      <td>BLUE POLKADOT WASHING UP GLOVES</td>\n",
              "      <td>4</td>\n",
              "      <td>6/23/11 13:13</td>\n",
              "      <td>2.10</td>\n",
              "      <td>16940</td>\n",
              "      <td>United Kingdom</td>\n",
              "      <td>8.40</td>\n",
              "    </tr>\n",
              "    <tr>\n",
              "      <th>182758</th>\n",
              "      <td>552572</td>\n",
              "      <td>23204</td>\n",
              "      <td>CHARLOTTE BAG APPLES DESIGN</td>\n",
              "      <td>100</td>\n",
              "      <td>5/10/11 12:11</td>\n",
              "      <td>0.72</td>\n",
              "      <td>14680</td>\n",
              "      <td>United Kingdom</td>\n",
              "      <td>72.00</td>\n",
              "    </tr>\n",
              "    <tr>\n",
              "      <th>540432</th>\n",
              "      <td>581486</td>\n",
              "      <td>22730</td>\n",
              "      <td>ALARM CLOCK BAKELIKE IVORY</td>\n",
              "      <td>4</td>\n",
              "      <td>12/9/11 9:38</td>\n",
              "      <td>3.75</td>\n",
              "      <td>17001</td>\n",
              "      <td>United Kingdom</td>\n",
              "      <td>15.00</td>\n",
              "    </tr>\n",
              "    <tr>\n",
              "      <th>464303</th>\n",
              "      <td>576087</td>\n",
              "      <td>22551</td>\n",
              "      <td>PLASTERS IN TIN SPACEBOY</td>\n",
              "      <td>12</td>\n",
              "      <td>11/14/11 8:31</td>\n",
              "      <td>1.65</td>\n",
              "      <td>12689</td>\n",
              "      <td>France</td>\n",
              "      <td>19.80</td>\n",
              "    </tr>\n",
              "    <tr>\n",
              "      <th>222165</th>\n",
              "      <td>556365</td>\n",
              "      <td>20979</td>\n",
              "      <td>36 PENCILS TUBE RED RETROSPOT</td>\n",
              "      <td>5</td>\n",
              "      <td>6/10/11 11:44</td>\n",
              "      <td>1.25</td>\n",
              "      <td>16370</td>\n",
              "      <td>United Kingdom</td>\n",
              "      <td>6.25</td>\n",
              "    </tr>\n",
              "    <tr>\n",
              "      <th>232142</th>\n",
              "      <td>557305</td>\n",
              "      <td>21462</td>\n",
              "      <td>NURSERY A,B,C PAINTED LETTERS</td>\n",
              "      <td>1</td>\n",
              "      <td>6/19/11 14:42</td>\n",
              "      <td>6.75</td>\n",
              "      <td>13568</td>\n",
              "      <td>United Kingdom</td>\n",
              "      <td>6.75</td>\n",
              "    </tr>\n",
              "    <tr>\n",
              "      <th>469652</th>\n",
              "      <td>576602</td>\n",
              "      <td>23175</td>\n",
              "      <td>REGENCY MILK JUG PINK</td>\n",
              "      <td>24</td>\n",
              "      <td>11/15/11 15:20</td>\n",
              "      <td>2.75</td>\n",
              "      <td>14156</td>\n",
              "      <td>EIRE</td>\n",
              "      <td>66.00</td>\n",
              "    </tr>\n",
              "    <tr>\n",
              "      <th>79319</th>\n",
              "      <td>542929</td>\n",
              "      <td>22366</td>\n",
              "      <td>DOORMAT AIRMAIL</td>\n",
              "      <td>1</td>\n",
              "      <td>2/2/11 10:34</td>\n",
              "      <td>7.95</td>\n",
              "      <td>17811</td>\n",
              "      <td>United Kingdom</td>\n",
              "      <td>7.95</td>\n",
              "    </tr>\n",
              "  </tbody>\n",
              "</table>\n",
              "</div>"
            ],
            "text/plain": [
              "       InvoiceNo StockCode  ...         Country  Spent\n",
              "201309    554280     23301  ...  United Kingdom  19.80\n",
              "7901      537065     21774  ...          France  15.00\n",
              "237662    557878     20752  ...  United Kingdom   8.40\n",
              "182758    552572     23204  ...  United Kingdom  72.00\n",
              "540432    581486     22730  ...  United Kingdom  15.00\n",
              "464303    576087     22551  ...          France  19.80\n",
              "222165    556365     20979  ...  United Kingdom   6.25\n",
              "232142    557305     21462  ...  United Kingdom   6.75\n",
              "469652    576602     23175  ...            EIRE  66.00\n",
              "79319     542929     22366  ...  United Kingdom   7.95\n",
              "\n",
              "[10 rows x 9 columns]"
            ]
          },
          "metadata": {
            "tags": []
          },
          "execution_count": 52
        }
      ]
    },
    {
      "cell_type": "markdown",
      "metadata": {
        "colab_type": "text",
        "id": "j1e1psbhb89F"
      },
      "source": [
        "### I will split the InvoiceDate into more specific columns: Month, Date, Hour"
      ]
    },
    {
      "cell_type": "code",
      "metadata": {
        "colab_type": "code",
        "id": "TTPk36tocILD",
        "colab": {}
      },
      "source": [
        "# first change the date format\n",
        "data['InvoiceDate'] = pd.to_datetime(data['InvoiceDate'], format='%m/%d/%y %H:%M')"
      ],
      "execution_count": 0,
      "outputs": []
    },
    {
      "cell_type": "code",
      "metadata": {
        "colab_type": "code",
        "id": "cI8-1axiearR",
        "colab": {}
      },
      "source": [
        "# add Month column\n",
        "data['Month'] = pd.DatetimeIndex(data[\"InvoiceDate\"]).month"
      ],
      "execution_count": 0,
      "outputs": []
    },
    {
      "cell_type": "code",
      "metadata": {
        "colab_type": "code",
        "id": "8NqNAmSOfH15",
        "colab": {}
      },
      "source": [
        "# add Date column\n",
        "data[\"Day\"] = pd.DatetimeIndex(data[\"InvoiceDate\"]).day"
      ],
      "execution_count": 0,
      "outputs": []
    },
    {
      "cell_type": "code",
      "metadata": {
        "colab_type": "code",
        "id": "XGZCer-NfUYD",
        "colab": {}
      },
      "source": [
        "# add Year column\n",
        "data[\"Year\"] = pd.DatetimeIndex(data[\"InvoiceDate\"]).year"
      ],
      "execution_count": 0,
      "outputs": []
    },
    {
      "cell_type": "code",
      "metadata": {
        "colab_type": "code",
        "id": "yLM7wAdol-si",
        "colab": {}
      },
      "source": [
        "# add Hour column\n",
        "data[\"Hour\"] = pd.DatetimeIndex(data[\"InvoiceDate\"]).hour"
      ],
      "execution_count": 0,
      "outputs": []
    },
    {
      "cell_type": "code",
      "metadata": {
        "colab_type": "code",
        "id": "79EsC8YVfZae",
        "outputId": "788fa1d6-2684-4e14-a2d5-d1d84cef5472",
        "colab": {
          "base_uri": "https://localhost:8080/",
          "height": 359
        }
      },
      "source": [
        "data.sample(10)"
      ],
      "execution_count": 58,
      "outputs": [
        {
          "output_type": "execute_result",
          "data": {
            "text/html": [
              "<div>\n",
              "<style scoped>\n",
              "    .dataframe tbody tr th:only-of-type {\n",
              "        vertical-align: middle;\n",
              "    }\n",
              "\n",
              "    .dataframe tbody tr th {\n",
              "        vertical-align: top;\n",
              "    }\n",
              "\n",
              "    .dataframe thead th {\n",
              "        text-align: right;\n",
              "    }\n",
              "</style>\n",
              "<table border=\"1\" class=\"dataframe\">\n",
              "  <thead>\n",
              "    <tr style=\"text-align: right;\">\n",
              "      <th></th>\n",
              "      <th>InvoiceNo</th>\n",
              "      <th>StockCode</th>\n",
              "      <th>Description</th>\n",
              "      <th>Quantity</th>\n",
              "      <th>InvoiceDate</th>\n",
              "      <th>UnitPrice</th>\n",
              "      <th>CustomerID</th>\n",
              "      <th>Country</th>\n",
              "      <th>Spent</th>\n",
              "      <th>Month</th>\n",
              "      <th>Day</th>\n",
              "      <th>Year</th>\n",
              "      <th>Hour</th>\n",
              "    </tr>\n",
              "  </thead>\n",
              "  <tbody>\n",
              "    <tr>\n",
              "      <th>309021</th>\n",
              "      <td>564060</td>\n",
              "      <td>22627</td>\n",
              "      <td>MINT KITCHEN SCALES</td>\n",
              "      <td>1</td>\n",
              "      <td>2011-08-22 14:37:00</td>\n",
              "      <td>8.50</td>\n",
              "      <td>17073</td>\n",
              "      <td>United Kingdom</td>\n",
              "      <td>8.50</td>\n",
              "      <td>8</td>\n",
              "      <td>22</td>\n",
              "      <td>2011</td>\n",
              "      <td>14</td>\n",
              "    </tr>\n",
              "    <tr>\n",
              "      <th>362998</th>\n",
              "      <td>568531</td>\n",
              "      <td>22027</td>\n",
              "      <td>TEA PARTY BIRTHDAY CARD</td>\n",
              "      <td>12</td>\n",
              "      <td>2011-09-27 13:49:00</td>\n",
              "      <td>0.42</td>\n",
              "      <td>16713</td>\n",
              "      <td>United Kingdom</td>\n",
              "      <td>5.04</td>\n",
              "      <td>9</td>\n",
              "      <td>27</td>\n",
              "      <td>2011</td>\n",
              "      <td>13</td>\n",
              "    </tr>\n",
              "    <tr>\n",
              "      <th>150618</th>\n",
              "      <td>549471</td>\n",
              "      <td>84970L</td>\n",
              "      <td>SINGLE HEART ZINC T-LIGHT HOLDER</td>\n",
              "      <td>30</td>\n",
              "      <td>2011-04-08 14:39:00</td>\n",
              "      <td>0.79</td>\n",
              "      <td>17389</td>\n",
              "      <td>United Kingdom</td>\n",
              "      <td>23.70</td>\n",
              "      <td>4</td>\n",
              "      <td>8</td>\n",
              "      <td>2011</td>\n",
              "      <td>14</td>\n",
              "    </tr>\n",
              "    <tr>\n",
              "      <th>246585</th>\n",
              "      <td>558707</td>\n",
              "      <td>10133</td>\n",
              "      <td>COLOURING PENCILS BROWN TUBE</td>\n",
              "      <td>4</td>\n",
              "      <td>2011-07-01 12:58:00</td>\n",
              "      <td>0.42</td>\n",
              "      <td>12748</td>\n",
              "      <td>United Kingdom</td>\n",
              "      <td>1.68</td>\n",
              "      <td>7</td>\n",
              "      <td>1</td>\n",
              "      <td>2011</td>\n",
              "      <td>12</td>\n",
              "    </tr>\n",
              "    <tr>\n",
              "      <th>293238</th>\n",
              "      <td>562587</td>\n",
              "      <td>22634</td>\n",
              "      <td>CHILDS BREAKFAST SET SPACEBOY</td>\n",
              "      <td>8</td>\n",
              "      <td>2011-08-07 14:34:00</td>\n",
              "      <td>8.50</td>\n",
              "      <td>15640</td>\n",
              "      <td>United Kingdom</td>\n",
              "      <td>68.00</td>\n",
              "      <td>8</td>\n",
              "      <td>7</td>\n",
              "      <td>2011</td>\n",
              "      <td>14</td>\n",
              "    </tr>\n",
              "    <tr>\n",
              "      <th>17983</th>\n",
              "      <td>537789</td>\n",
              "      <td>21069</td>\n",
              "      <td>VINTAGE BILLBOARD TEA MUG</td>\n",
              "      <td>12</td>\n",
              "      <td>2010-12-08 12:49:00</td>\n",
              "      <td>1.25</td>\n",
              "      <td>14051</td>\n",
              "      <td>United Kingdom</td>\n",
              "      <td>15.00</td>\n",
              "      <td>12</td>\n",
              "      <td>8</td>\n",
              "      <td>2010</td>\n",
              "      <td>12</td>\n",
              "    </tr>\n",
              "    <tr>\n",
              "      <th>395441</th>\n",
              "      <td>571034</td>\n",
              "      <td>23504</td>\n",
              "      <td>PLAYING CARDS JUBILEE UNION JACK</td>\n",
              "      <td>12</td>\n",
              "      <td>2011-10-13 12:47:00</td>\n",
              "      <td>1.25</td>\n",
              "      <td>12359</td>\n",
              "      <td>Cyprus</td>\n",
              "      <td>15.00</td>\n",
              "      <td>10</td>\n",
              "      <td>13</td>\n",
              "      <td>2011</td>\n",
              "      <td>12</td>\n",
              "    </tr>\n",
              "    <tr>\n",
              "      <th>279591</th>\n",
              "      <td>561332</td>\n",
              "      <td>23293</td>\n",
              "      <td>SET OF 12 FAIRY CAKE BAKING CASES</td>\n",
              "      <td>8</td>\n",
              "      <td>2011-07-26 14:25:00</td>\n",
              "      <td>0.83</td>\n",
              "      <td>13492</td>\n",
              "      <td>Switzerland</td>\n",
              "      <td>6.64</td>\n",
              "      <td>7</td>\n",
              "      <td>26</td>\n",
              "      <td>2011</td>\n",
              "      <td>14</td>\n",
              "    </tr>\n",
              "    <tr>\n",
              "      <th>179786</th>\n",
              "      <td>552286</td>\n",
              "      <td>22384</td>\n",
              "      <td>LUNCH BAG PINK POLKADOT</td>\n",
              "      <td>1</td>\n",
              "      <td>2011-05-08 13:07:00</td>\n",
              "      <td>1.65</td>\n",
              "      <td>16393</td>\n",
              "      <td>United Kingdom</td>\n",
              "      <td>1.65</td>\n",
              "      <td>5</td>\n",
              "      <td>8</td>\n",
              "      <td>2011</td>\n",
              "      <td>13</td>\n",
              "    </tr>\n",
              "    <tr>\n",
              "      <th>298260</th>\n",
              "      <td>563012</td>\n",
              "      <td>16238</td>\n",
              "      <td>PARTY TIME PENCIL ERASERS</td>\n",
              "      <td>3</td>\n",
              "      <td>2011-08-11 12:00:00</td>\n",
              "      <td>0.21</td>\n",
              "      <td>17284</td>\n",
              "      <td>United Kingdom</td>\n",
              "      <td>0.63</td>\n",
              "      <td>8</td>\n",
              "      <td>11</td>\n",
              "      <td>2011</td>\n",
              "      <td>12</td>\n",
              "    </tr>\n",
              "  </tbody>\n",
              "</table>\n",
              "</div>"
            ],
            "text/plain": [
              "       InvoiceNo StockCode                        Description  ...  Day  Year  Hour\n",
              "309021    564060     22627                MINT KITCHEN SCALES  ...   22  2011    14\n",
              "362998    568531     22027            TEA PARTY BIRTHDAY CARD  ...   27  2011    13\n",
              "150618    549471    84970L   SINGLE HEART ZINC T-LIGHT HOLDER  ...    8  2011    14\n",
              "246585    558707     10133       COLOURING PENCILS BROWN TUBE  ...    1  2011    12\n",
              "293238    562587     22634     CHILDS BREAKFAST SET SPACEBOY   ...    7  2011    14\n",
              "17983     537789     21069          VINTAGE BILLBOARD TEA MUG  ...    8  2010    12\n",
              "395441    571034     23504   PLAYING CARDS JUBILEE UNION JACK  ...   13  2011    12\n",
              "279591    561332     23293  SET OF 12 FAIRY CAKE BAKING CASES  ...   26  2011    14\n",
              "179786    552286     22384            LUNCH BAG PINK POLKADOT  ...    8  2011    13\n",
              "298260    563012     16238          PARTY TIME PENCIL ERASERS  ...   11  2011    12\n",
              "\n",
              "[10 rows x 13 columns]"
            ]
          },
          "metadata": {
            "tags": []
          },
          "execution_count": 58
        }
      ]
    },
    {
      "cell_type": "markdown",
      "metadata": {
        "colab_type": "text",
        "id": "Ikd1t-v3Pm17"
      },
      "source": [
        "### Step 3 - EDA"
      ]
    },
    {
      "cell_type": "markdown",
      "metadata": {
        "colab_type": "text",
        "id": "-T3iojz1If_r"
      },
      "source": [
        "**The customer with the highest number of orders comes from the United Kingdom (UK)**"
      ]
    },
    {
      "cell_type": "code",
      "metadata": {
        "colab_type": "code",
        "id": "oO1GyVXRiBUG",
        "outputId": "0feb0c1b-3139-4c12-f06f-62ed4542ac0c",
        "colab": {
          "base_uri": "https://localhost:8080/",
          "height": 323
        }
      },
      "source": [
        "data.info()"
      ],
      "execution_count": 59,
      "outputs": [
        {
          "output_type": "stream",
          "text": [
            "<class 'pandas.core.frame.DataFrame'>\n",
            "Int64Index: 397884 entries, 0 to 541908\n",
            "Data columns (total 13 columns):\n",
            "InvoiceNo      397884 non-null object\n",
            "StockCode      397884 non-null object\n",
            "Description    397884 non-null object\n",
            "Quantity       397884 non-null int64\n",
            "InvoiceDate    397884 non-null datetime64[ns]\n",
            "UnitPrice      397884 non-null float64\n",
            "CustomerID     397884 non-null int64\n",
            "Country        397884 non-null object\n",
            "Spent          397884 non-null float64\n",
            "Month          397884 non-null int64\n",
            "Day            397884 non-null int64\n",
            "Year           397884 non-null int64\n",
            "Hour           397884 non-null int64\n",
            "dtypes: datetime64[ns](1), float64(2), int64(6), object(4)\n",
            "memory usage: 42.5+ MB\n"
          ],
          "name": "stdout"
        }
      ]
    },
    {
      "cell_type": "code",
      "metadata": {
        "colab_type": "code",
        "id": "qIUoWtlPIhxJ",
        "outputId": "be5a483c-3a03-46cd-dace-7e9ca69777db",
        "colab": {
          "base_uri": "https://localhost:8080/",
          "height": 34
        }
      },
      "source": [
        "orders = data.groupby(by=['CustomerID','Country'], as_index=False)['InvoiceNo'].count()\n",
        "UK_customers = orders[orders[\"Country\"] == \"United Kingdom\"]\n",
        "UK_customers['InvoiceNo'].max()"
      ],
      "execution_count": 60,
      "outputs": [
        {
          "output_type": "execute_result",
          "data": {
            "text/plain": [
              "7847"
            ]
          },
          "metadata": {
            "tags": []
          },
          "execution_count": 60
        }
      ]
    },
    {
      "cell_type": "markdown",
      "metadata": {
        "colab_type": "text",
        "id": "9yUfXWelIiTg"
      },
      "source": [
        "**The customer with the highest money spent on purchases comes from Netherlands**"
      ]
    },
    {
      "cell_type": "code",
      "metadata": {
        "colab_type": "code",
        "id": "qCN_rIThJDRj",
        "outputId": "6bb67318-1431-4e9c-ec89-9f5cdc47ddd5",
        "colab": {
          "base_uri": "https://localhost:8080/",
          "height": 34
        }
      },
      "source": [
        "spent = data.groupby(by=['CustomerID', 'Country'], as_index=False)['Spent'].count()\n",
        "Neth_customers = spent[spent[\"Country\"] == \"Netherlands\"]\n",
        "Neth_customers['Spent'].max()"
      ],
      "execution_count": 61,
      "outputs": [
        {
          "output_type": "execute_result",
          "data": {
            "text/plain": [
              "2076"
            ]
          },
          "metadata": {
            "tags": []
          },
          "execution_count": 61
        }
      ]
    },
    {
      "cell_type": "markdown",
      "metadata": {
        "colab_type": "text",
        "id": "UcCxS85hIwLb"
      },
      "source": [
        "**On which year had the highest sales?**"
      ]
    },
    {
      "cell_type": "code",
      "metadata": {
        "colab_type": "code",
        "id": "i-7RsisUI_gc",
        "colab": {}
      },
      "source": [
        "# I don't understand the question"
      ],
      "execution_count": 0,
      "outputs": []
    },
    {
      "cell_type": "markdown",
      "metadata": {
        "colab_type": "text",
        "id": "W-IKvzruKHXb"
      },
      "source": [
        "**How many orders (per hour)?**"
      ]
    },
    {
      "cell_type": "code",
      "metadata": {
        "colab_type": "code",
        "id": "RHS5ridWKQ4u",
        "outputId": "95ce3cd8-378b-42dc-b42f-fcd2a7719f79",
        "colab": {
          "base_uri": "https://localhost:8080/",
          "height": 306
        }
      },
      "source": [
        "orders_per_hour = data.groupby('InvoiceNo')['Hour'].unique().value_counts()\n",
        "orders_per_hour"
      ],
      "execution_count": 63,
      "outputs": [
        {
          "output_type": "execute_result",
          "data": {
            "text/plain": [
              "[12]        3129\n",
              "[13]        2636\n",
              "[11]        2276\n",
              "[14]        2274\n",
              "[10]        2226\n",
              "[15]        2037\n",
              "[9]         1393\n",
              "[16]        1100\n",
              "[8]          555\n",
              "[17]         544\n",
              "[18]         169\n",
              "[19]         144\n",
              "[7]           29\n",
              "[20]          18\n",
              "[6]            1\n",
              "[11, 12]       1\n",
              "Name: Hour, dtype: int64"
            ]
          },
          "metadata": {
            "tags": []
          },
          "execution_count": 63
        }
      ]
    },
    {
      "cell_type": "markdown",
      "metadata": {
        "colab_type": "text",
        "id": "dqCZUmx0KKfS"
      },
      "source": [
        "**Make a plot about number of orders per hour**"
      ]
    },
    {
      "cell_type": "code",
      "metadata": {
        "colab_type": "code",
        "id": "-KPgD51AKKE6",
        "outputId": "430a50db-7e0d-4724-a9b0-b1d924e21661",
        "colab": {
          "base_uri": "https://localhost:8080/",
          "height": 312
        }
      },
      "source": [
        "orders_per_hour.plot(kind=\"bar\")"
      ],
      "execution_count": 64,
      "outputs": [
        {
          "output_type": "execute_result",
          "data": {
            "text/plain": [
              "<matplotlib.axes._subplots.AxesSubplot at 0x7f38090fd9b0>"
            ]
          },
          "metadata": {
            "tags": []
          },
          "execution_count": 64
        },
        {
          "output_type": "display_data",
          "data": {
            "image/png": "[encoded data removed]",
            "text/plain": [
              "<Figure size 432x288 with 1 Axes>"
            ]
          },
          "metadata": {
            "tags": []
          }
        }
      ]
    },
    {
      "cell_type": "markdown",
      "metadata": {
        "colab_type": "text",
        "id": "IFdCALXQnMbI"
      },
      "source": [
        "### My observation:\n",
        "Maybe at noon people order the most because it's their break time, so they have time to surf the Internet and do shopping"
      ]
    },
    {
      "cell_type": "markdown",
      "metadata": {
        "colab_type": "text",
        "id": "-8ZwTvS6L0vS"
      },
      "source": [
        "**How many orders (per month)?**"
      ]
    },
    {
      "cell_type": "code",
      "metadata": {
        "colab_type": "code",
        "id": "NeOp_6a3L0vX",
        "outputId": "0317930c-b793-4a50-fb6d-7a352a503c15",
        "colab": {
          "base_uri": "https://localhost:8080/",
          "height": 238
        }
      },
      "source": [
        "orders_per_month = data.groupby('InvoiceNo')['Month'].unique().value_counts()\n",
        "orders_per_month"
      ],
      "execution_count": 65,
      "outputs": [
        {
          "output_type": "execute_result",
          "data": {
            "text/plain": [
              "[11]    2657\n",
              "[12]    2178\n",
              "[10]    1929\n",
              "[9]     1755\n",
              "[5]     1555\n",
              "[6]     1393\n",
              "[7]     1331\n",
              "[3]     1321\n",
              "[8]     1280\n",
              "[4]     1149\n",
              "[2]      997\n",
              "[1]      987\n",
              "Name: Month, dtype: int64"
            ]
          },
          "metadata": {
            "tags": []
          },
          "execution_count": 65
        }
      ]
    },
    {
      "cell_type": "markdown",
      "metadata": {
        "colab_type": "text",
        "id": "sOYrMUczL0vb"
      },
      "source": [
        "**Make a plot about number of orders per month**"
      ]
    },
    {
      "cell_type": "code",
      "metadata": {
        "colab_type": "code",
        "id": "e7RJQ5MbL4cY",
        "outputId": "d7d74c1a-b8d4-426f-9525-26dd0f4d70bf",
        "colab": {
          "base_uri": "https://localhost:8080/",
          "height": 293
        }
      },
      "source": [
        "orders_per_month.plot(kind=\"bar\")"
      ],
      "execution_count": 66,
      "outputs": [
        {
          "output_type": "execute_result",
          "data": {
            "text/plain": [
              "<matplotlib.axes._subplots.AxesSubplot at 0x7f3808ffbef0>"
            ]
          },
          "metadata": {
            "tags": []
          },
          "execution_count": 66
        },
        {
          "output_type": "display_data",
          "data": {
            "image/png": "[encoded data removed]",
            "text/plain": [
              "<Figure size 432x288 with 1 Axes>"
            ]
          },
          "metadata": {
            "tags": []
          }
        }
      ]
    },
    {
      "cell_type": "markdown",
      "metadata": {
        "colab_type": "text",
        "id": "n83sJk64nndE"
      },
      "source": [
        "### My observation:\n",
        "At the end of the year (October, November, December), there are alot of holidays, such as Haloween, Thanksgiving, Black Friday, Christmas, New Year's Eve. So people will buy more"
      ]
    },
    {
      "cell_type": "markdown",
      "metadata": {
        "colab_type": "text",
        "id": "E3eeyQeBLd6e"
      },
      "source": [
        "**Top 10 items most sales**"
      ]
    },
    {
      "cell_type": "code",
      "metadata": {
        "colab_type": "code",
        "id": "4trjB9ZjLhEv",
        "outputId": "53961230-34d5-40dd-a2ef-831b537be57f",
        "colab": {
          "base_uri": "https://localhost:8080/",
          "height": 34
        }
      },
      "source": [
        "items = data.groupby(by=['StockCode'], as_index=False)['InvoiceNo'].count()\n",
        "items['InvoiceNo'].max()"
      ],
      "execution_count": 67,
      "outputs": [
        {
          "output_type": "execute_result",
          "data": {
            "text/plain": [
              "2035"
            ]
          },
          "metadata": {
            "tags": []
          },
          "execution_count": 67
        }
      ]
    },
    {
      "cell_type": "markdown",
      "metadata": {
        "colab_type": "text",
        "id": "-dEBLw1uPm1-"
      },
      "source": [
        "**Create a histogram with the 10 countries that have the most 'Quantity' ordered except UK**"
      ]
    },
    {
      "cell_type": "code",
      "metadata": {
        "colab_type": "code",
        "id": "_N-UF331Pm1-",
        "outputId": "fb37de65-d32f-4de5-a8bc-0627eadede30",
        "colab": {
          "base_uri": "https://localhost:8080/",
          "height": 497
        }
      },
      "source": [
        "# Your code here\n",
        "country_orders = data.groupby('Country')['InvoiceNo'].count().sort_values()\n",
        "del country_orders['United Kingdom']\n",
        "\n",
        "plt.subplots(figsize=(15,8))\n",
        "country_orders.plot('barh')\n",
        "plt.xlabel('Number of Orders')\n",
        "plt.ylabel('Country')\n",
        "plt.show()\n",
        "\n",
        "# What can you tell about this?"
      ],
      "execution_count": 68,
      "outputs": [
        {
          "output_type": "display_data",
          "data": {
            "image/png": "[encoded data removed]",
            "text/plain": [
              "<Figure size 1080x576 with 1 Axes>"
            ]
          },
          "metadata": {
            "tags": []
          }
        }
      ]
    },
    {
      "cell_type": "markdown",
      "metadata": {
        "colab_type": "text",
        "id": "MoBgPjDiwhdV"
      },
      "source": [
        "### You are awesome!!"
      ]
    }
  ]
}